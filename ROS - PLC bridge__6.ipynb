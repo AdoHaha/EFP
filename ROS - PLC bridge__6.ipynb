{
 "cells": [
  {
   "cell_type": "code",
   "execution_count": null,
   "metadata": {
    "collapsed": false
   },
   "outputs": [],
   "source": [
    "import socket\n",
    "import sys\n",
    "from collections import namedtuple\n",
    "from struct import unpack, pack\n",
    "import asyncore\n",
    "import rospy\n",
    "from std_msgs.msg import Float32, Float64, String, Header\n",
    "from std_srvs.srv import Trigger, SetBool\n",
    "import std_srvs.srv\n",
    "import std_msgs.msg\n",
    "from sensor_msgs.msg import JointState"
   ]
  },
  {
   "cell_type": "code",
   "execution_count": null,
   "metadata": {
    "collapsed": false
   },
   "outputs": [],
   "source": [
    "Message = namedtuple('Message', ['position1','speed1','torque1','position2','speed2','torque2'])\n",
    "control = [0.,0.,0.,0.,0.,0.]\n",
    "rospy.init_node('ROS_PLC_bridge')\n",
    "\n",
    "class HTTPClient(asyncore.dispatcher):\n",
    "\n",
    "    def __init__(self, host=\"192.168.1.120\", port=8000, message_size=48): \n",
    "\n",
    "        self.pub1 = rospy.Publisher('/rail1_state', JointState, queue_size=10)  \n",
    "        self.pub2 = rospy.Publisher('/rail2_state', JointState, queue_size=10)\n",
    "        \n",
    "        asyncore.dispatcher.__init__(self)\n",
    "        self.message_size=message_size #message_size=48\n",
    "        self.create_socket()\n",
    "        self.connect( (host, port) ) #connect to port 8000, host 192.168.1.120\n",
    "        #self.buffer = bytes('testing','utf8')\n",
    "        self.counter=0\n",
    "        self.last_message=\"\"\n",
    "        \n",
    "        self.s_start = rospy.Service('start_stop', SetBool, self.start_stop_communication)      \n",
    "        \n",
    "        self.rail_subscriber1 = rospy.Subscriber(\"/rail1_control\", JointState, self.control_rail1)\n",
    "        self.rail_subscriber2 = rospy.Subscriber(\"/rail2_control\", JointState, self.control_rail2)\n",
    "    \n",
    "    def __del__(self):\n",
    "        #print(\"trying to clean \")\n",
    "        self.s_start.shutdown()\n",
    "        self.s_mode.shutdown()\n",
    "        self.pub1.unregister()\n",
    "        self.pub2.unregister()\n",
    "        self.rail_subscriber1.unregister()\n",
    "        self.rail_subscriber2.unregister()\n",
    "    \n",
    "    def start_stop_communication(self, message, host=\"192.168.1.120\", port=8000, message_size=50):\n",
    "        '''this methond allows or stops communication between ROS and the PLC'''\n",
    "        if message.data:\n",
    "            print(\"Establishing communication\")\n",
    "            try:\n",
    "                self.connect( (host, port) ) #connect to port 8000, host 192.168.1.120\n",
    "                return std_srvs.srv.SetBoolResponse(1, \"Communication established\")\n",
    "            except:\n",
    "                print(\"Communication failure\")\n",
    "                return std_srvs.srv.SetBoolResponse(0, \"Communication could not be established\")\n",
    "        else:\n",
    "            print(\"Shutting down communication\")\n",
    "            self.close()\n",
    "            self.create_socket()\n",
    "            return std_srvs.srv.SetBoolResponse(1, \"Communication shutdown\")\n",
    "     \n",
    "    def control_rail1(self,message):\n",
    "        pos1=message.position[0]\n",
    "        vel1=message.velocity[0]\n",
    "        accel1=message.effort[0]\n",
    "        control[0]=pos1\n",
    "        control[1]=vel1\n",
    "        control[2]=accel1\n",
    "        self.send_control1(control)\n",
    "    \n",
    "    def control_rail2(self,message):\n",
    "        pos2=message.position[0]\n",
    "        vel2=message.velocity[0]\n",
    "        accel2=message.effort[0]\n",
    "        control[3]=pos2\n",
    "        control[4]=vel2\n",
    "        control[5]=accel2\n",
    "        self.send_control2(control)\n",
    "        \n",
    "    def send_control1(self,control):       \n",
    "        control_sent=pack('dddddd',control[0],control[1],control[2],control[3],control[4],control[5])\n",
    "        self.send(control_sent)\n",
    "        \n",
    "    def send_control2(self,control):       \n",
    "        control_sent=pack('dddddd',control[0],control[1],control[2],control[3],control[4],control[5])\n",
    "        self.send(control_sent)\n",
    "        \n",
    "    def handle_connect(self):\n",
    "        #print(\"connected\")\n",
    "        pass\n",
    "        \n",
    "    def decode_message(self,message):\n",
    "        '''this method decodes the message received through TCP/IP'''\n",
    "        if(len(message)==self.message_size):\n",
    "            touple_from_tcp=unpack('dddddd', message)\n",
    "            my_message=Message(*touple_from_tcp)\n",
    "            return my_message\n",
    "        return False\n",
    "    \n",
    "    def handle_read(self):\n",
    "        '''this method receives a message through TCP/IP and publishes it to ROS topics'''\n",
    "        byte_message=self.recv(self.message_size)\n",
    "        self.last_message=self.decode_message(byte_message)\n",
    "        if(self.last_message):\n",
    "            try:\n",
    "                message1 = JointState()\n",
    "                message1.header = Header()\n",
    "                message1.header.stamp = rospy.Time.now()\n",
    "                message1.name = [\"tor1\"]\n",
    "                message1.position = [self.last_message.position1]\n",
    "                message1.velocity = [self.last_message.speed1]\n",
    "                message1.effort = [self.last_message.torque1]\n",
    "                self.pub1.publish(message1)\n",
    "                \n",
    "                message2 = JointState()\n",
    "                message2.header = Header()\n",
    "                message2.header.stamp = rospy.Time.now()\n",
    "                message2.name = [\"tor2\"]\n",
    "                message2.position = [self.last_message.position2]\n",
    "                message2.velocity = [self.last_message.speed2]\n",
    "                message2.effort = [self.last_message.torque2]\n",
    "                self.pub2.publish(message2)    \n",
    "            except:\n",
    "                print(\"Error\")\n",
    "        self.counter+=1\n",
    "        "
   ]
  },
  {
   "cell_type": "code",
   "execution_count": null,
   "metadata": {
    "collapsed": false,
    "scrolled": true
   },
   "outputs": [],
   "source": [
    "client = HTTPClient('192.168.1.120',8000)\n",
    "asyncore.loop()"
   ]
  },
  {
   "cell_type": "code",
   "execution_count": null,
   "metadata": {
    "collapsed": false
   },
   "outputs": [],
   "source": []
  },
  {
   "cell_type": "code",
   "execution_count": null,
   "metadata": {
    "collapsed": true
   },
   "outputs": [],
   "source": [
    "asyncore.loop()"
   ]
  },
  {
   "cell_type": "code",
   "execution_count": null,
   "metadata": {
    "collapsed": true
   },
   "outputs": [],
   "source": [
    "#received_message=sock.recv(50)\n",
    "#print(received_message)"
   ]
  },
  {
   "cell_type": "code",
   "execution_count": null,
   "metadata": {
    "collapsed": false
   },
   "outputs": [],
   "source": [
    "    with socket.socket(socket.AF_INET, socket.SOCK_STREAM) as sock:\n",
    "        ip=\"192.168.1.120\"\n",
    "        port=8000\n",
    "    # Connect the socket to the port where the server is listening\n",
    "        server_address = (ip,port)\n",
    "        print( 'connecting to %s port %s' % server_address)\n",
    "        somesocket=sock.connect(server_address)\n",
    "        #sock.sendall(\"testing\".encode())\n",
    "        received_message=sock.recv(50)\n",
    "\n"
   ]
  },
  {
   "cell_type": "code",
   "execution_count": null,
   "metadata": {
    "collapsed": false
   },
   "outputs": [],
   "source": [
    "print(len(received_message))"
   ]
  },
  {
   "cell_type": "code",
   "execution_count": null,
   "metadata": {
    "collapsed": false
   },
   "outputs": [],
   "source": [
    "touple_from_tcp=unpack('ddddddcc', received_message)\n",
    "touple_from_tcp"
   ]
  },
  {
   "cell_type": "code",
   "execution_count": null,
   "metadata": {
    "collapsed": false
   },
   "outputs": [],
   "source": [
    "Message = namedtuple('Message', ['position1','speed1','torque1','position2','speed2','torque2','first_letter','second_letter'])\n",
    "my_message=Message(*touple_from_tcp)\n",
    "list(my_message)"
   ]
  },
  {
   "cell_type": "code",
   "execution_count": null,
   "metadata": {
    "collapsed": false
   },
   "outputs": [],
   "source": [
    "my_message.position1"
   ]
  },
  {
   "cell_type": "code",
   "execution_count": null,
   "metadata": {
    "collapsed": false
   },
   "outputs": [],
   "source": [
    "client.socket.close()"
   ]
  },
  {
   "cell_type": "code",
   "execution_count": null,
   "metadata": {
    "collapsed": false
   },
   "outputs": [],
   "source": [
    "client.counter"
   ]
  },
  {
   "cell_type": "code",
   "execution_count": null,
   "metadata": {
    "collapsed": false
   },
   "outputs": [],
   "source": [
    "#!/usr/bin/env python\n",
    "\n",
    "import rospy\n",
    "\n",
    "def start_stop_communication(inside):\n",
    "    #start stop rail \n",
    "    print(\"inside service response\")\n",
    "    print(inside)\n",
    "    return std_srvs.srv.SetBoolResponse(1,\"we have suceeded\")\n",
    "    \n",
    "\n"
   ]
  },
  {
   "cell_type": "code",
   "execution_count": null,
   "metadata": {
    "collapsed": true
   },
   "outputs": [],
   "source": [
    "? std_srvs.srv.SetBoolResponse"
   ]
  },
  {
   "cell_type": "code",
   "execution_count": null,
   "metadata": {
    "collapsed": true
   },
   "outputs": [],
   "source": [
    "s_start.shutdown()"
   ]
  },
  {
   "cell_type": "code",
   "execution_count": null,
   "metadata": {
    "collapsed": true
   },
   "outputs": [],
   "source": [
    "s_start = rospy.Service('start_stop4', SetBool, start_stop_communication)\n"
   ]
  },
  {
   "cell_type": "code",
   "execution_count": null,
   "metadata": {
    "collapsed": true
   },
   "outputs": [],
   "source": [
    "trigger_experiment = rospy.ServiceProxy('start_stop4', SetBool)"
   ]
  },
  {
   "cell_type": "code",
   "execution_count": null,
   "metadata": {
    "collapsed": false
   },
   "outputs": [],
   "source": [
    "response=trigger_experiment(True)"
   ]
  },
  {
   "cell_type": "code",
   "execution_count": null,
   "metadata": {
    "collapsed": false
   },
   "outputs": [],
   "source": [
    "print(response.message)\n",
    "print(response.success)\n"
   ]
  },
  {
   "cell_type": "code",
   "execution_count": null,
   "metadata": {
    "collapsed": true
   },
   "outputs": [],
   "source": [
    "sth=Trigger()"
   ]
  },
  {
   "cell_type": "code",
   "execution_count": null,
   "metadata": {
    "collapsed": false
   },
   "outputs": [],
   "source": [
    "print(sth.)"
   ]
  },
  {
   "cell_type": "code",
   "execution_count": null,
   "metadata": {
    "collapsed": true
   },
   "outputs": [],
   "source": [
    "? sth"
   ]
  },
  {
   "cell_type": "code",
   "execution_count": null,
   "metadata": {
    "collapsed": true
   },
   "outputs": [],
   "source": []
  }
 ],
 "metadata": {
  "celltoolbar": "Raw Cell Format",
  "kernelspec": {
   "display_name": "Python 3",
   "language": "python",
   "name": "python3"
  },
  "language_info": {
   "codemirror_mode": {
    "name": "ipython",
    "version": 3
   },
   "file_extension": ".py",
   "mimetype": "text/x-python",
   "name": "python",
   "nbconvert_exporter": "python",
   "pygments_lexer": "ipython3",
   "version": "3.6.0"
  }
 },
 "nbformat": 4,
 "nbformat_minor": 2
}
