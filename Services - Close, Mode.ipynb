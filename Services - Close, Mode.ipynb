{
 "cells": [
  {
   "cell_type": "code",
   "execution_count": null,
   "metadata": {
    "collapsed": true
   },
   "outputs": [],
   "source": [
    "import sys\n",
    "import rospy\n",
    "from std_msgs.msg import Float32\n",
    "from std_msgs.msg import String\n",
    "from std_srvs.srv import Trigger, SetBool\n",
    "import std_srvs.srv"
   ]
  },
  {
   "cell_type": "code",
   "execution_count": null,
   "metadata": {
    "collapsed": true
   },
   "outputs": [],
   "source": [
    "trigger_start_stop = rospy.ServiceProxy('start_stop', SetBool)\n",
    "trigger_mode = rospy.ServiceProxy('change_mode', SetBool)"
   ]
  },
  {
   "cell_type": "code",
   "execution_count": null,
   "metadata": {
    "collapsed": false
   },
   "outputs": [],
   "source": [
    "trigger_start_stop = rospy.ServiceProxy('start_stop', SetBool)\n",
    "trigger_mode = rospy.ServiceProxy('change_mode', SetBool)\n",
    "response_start=trigger_start_stop(1)\n",
    "print(response_start.success)\n",
    "print(response_start.message)"
   ]
  },
  {
   "cell_type": "code",
   "execution_count": null,
   "metadata": {
    "collapsed": false
   },
   "outputs": [],
   "source": [
    "response_mode=trigger_mode(0)\n",
    "print(response_mode.success)\n",
    "print(response_mode.message)"
   ]
  },
  {
   "cell_type": "code",
   "execution_count": null,
   "metadata": {
    "collapsed": true
   },
   "outputs": [],
   "source": []
  }
 ],
 "metadata": {
  "kernelspec": {
   "display_name": "Python 3",
   "language": "python",
   "name": "python3"
  },
  "language_info": {
   "codemirror_mode": {
    "name": "ipython",
    "version": 3
   },
   "file_extension": ".py",
   "mimetype": "text/x-python",
   "name": "python",
   "nbconvert_exporter": "python",
   "pygments_lexer": "ipython3",
   "version": "3.6.0"
  }
 },
 "nbformat": 4,
 "nbformat_minor": 2
}
