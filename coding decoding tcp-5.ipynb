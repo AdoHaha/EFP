{
 "cells": [
  {
   "cell_type": "code",
   "execution_count": 10,
   "metadata": {
    "collapsed": false
   },
   "outputs": [],
   "source": [
    "import socket\n",
    "import sys\n",
    "from collections import namedtuple\n",
    "from struct import unpack\n",
    "import asyncore\n",
    "import rospy\n",
    "from std_msgs.msg import Float32\n",
    "from std_msgs.msg import String\n",
    "from std_srvs.srv import Trigger"
   ]
  },
  {
   "cell_type": "code",
   "execution_count": null,
   "metadata": {
    "collapsed": true
   },
   "outputs": [],
   "source": [
    "#received_message=sock.recv(50)\n",
    "#print(received_message)"
   ]
  },
  {
   "cell_type": "code",
   "execution_count": null,
   "metadata": {
    "collapsed": false
   },
   "outputs": [
    {
     "name": "stdout",
     "output_type": "stream",
     "text": [
      "connecting to 192.168.1.120 port 8000\n"
     ]
    }
   ],
   "source": [
    "    with socket.socket(socket.AF_INET, socket.SOCK_STREAM) as sock:\n",
    "        ip=\"192.168.1.120\"\n",
    "        port=8000\n",
    "    # Connect the socket to the port where the server is listening\n",
    "        server_address = (ip,port)\n",
    "        print( 'connecting to %s port %s' % server_address)\n",
    "        somesocket=sock.connect(server_address)\n",
    "        sock.sendall(\"testing\".encode())\n",
    "        received_message=sock.recv(50)\n",
    "\n"
   ]
  },
  {
   "cell_type": "code",
   "execution_count": null,
   "metadata": {
    "collapsed": false
   },
   "outputs": [],
   "source": [
    "print(len(received_message))"
   ]
  },
  {
   "cell_type": "code",
   "execution_count": null,
   "metadata": {
    "collapsed": false
   },
   "outputs": [],
   "source": [
    "touple_from_tcp=unpack('ddddddcc', received_message)\n",
    "touple_from_tcp"
   ]
  },
  {
   "cell_type": "code",
   "execution_count": null,
   "metadata": {
    "collapsed": false
   },
   "outputs": [],
   "source": [
    "Message = namedtuple('Message', ['position1','speed1','torque1','position2','speed2','torque2','first_letter','second_letter'])\n",
    "my_message=Message(*touple_from_tcp)\n",
    "list(my_message)"
   ]
  },
  {
   "cell_type": "code",
   "execution_count": null,
   "metadata": {
    "collapsed": false
   },
   "outputs": [],
   "source": [
    "my_message.position1"
   ]
  },
  {
   "cell_type": "code",
   "execution_count": 22,
   "metadata": {
    "collapsed": false
   },
   "outputs": [],
   "source": [
    "#rospy.init_node('talker', anonymous=True)\n",
    "\n",
    "\n",
    "Message = namedtuple('Message', ['position1','speed1','torque1','position2','speed2','torque2','first_letter','second_letter'])\n",
    "\n",
    "\n",
    "class HTTPClient(asyncore.dispatcher):\n",
    "\n",
    "    def __init__(self, host=\"192.168.1.120\", port=8000, message_size=50):\n",
    "        #self.pub0 = rospy.Publisher('/rail1/position', Float32, queue_size=10)\n",
    "        #self.pub1 = rospy.Publisher('/rail1/speed', Float32, queue_size=10)\n",
    "        #self.pub2 = rospy.Publisher('/rail1/torque', Float32, queue_size=10)\n",
    "        #self.pub3 = rospy.Publisher('/rail2/position', Float32, queue_size=10)\n",
    "        #self.pub4 = rospy.Publisher('/rail2/speed', Float32, queue_size=10)\n",
    "        #self.pub5 = rospy.Publisher('/rail2/torque', Float32, queue_size=10)\n",
    "        asyncore.dispatcher.__init__(self)\n",
    "        self.create_socket()\n",
    "        self.message_size=message_size #message_size=50\n",
    "        self.connect( (host, port) ) #connect to port 8000, host 192.168.1.120 \n",
    "        self.buffer = bytes('testing','utf8')\n",
    "        self.counter=0\n",
    "        #rospy.Subscriber(\"chatter\", String, self.callback)\n",
    "        self.s_start = rospy.Service('start_stop', Trigger, self.handle_start_stop)\n",
    "        self.s_mode = rospy.Service('mode', Trigger, self.handle_mode)\n",
    "        self.last_message=\"\"\n",
    "    \n",
    "    def handle_start_stop(self):\n",
    "        '''this method does that and returns this or changes that ...'''\n",
    "    \n",
    "        #self.handle_start_stop\n",
    "        print(\"Triggering Start/Stop\")\n",
    "        self.shutdown(self.SHUT_RDWR)\n",
    "        self.close()\n",
    "        return Start_StopResponse(True, \"trigger successful\")\n",
    "        \n",
    "    def handle_mode(self):\n",
    "        #self.handle_mode\n",
    "        print(\"Triggering Mode\")\n",
    "        return ModeResponse(True, \"trigger successful\")\n",
    "        \n",
    "    def handle_connect(self):\n",
    "        print(\"connected\")\n",
    "        pass\n",
    "    \n",
    "    #def callback(self,message):\n",
    "        #print(message) #String from \"chatter\" Publisher\n",
    "        #self.buffer =bytes(message.data,'utf8')\n",
    "        #self.handle_write()\n",
    "        \n",
    "    def handle_close(self):\n",
    "        self.close()\n",
    "    def decode_message(self,message):\n",
    "        if(len(message)==self.message_size):\n",
    "            touple_from_tcp=unpack('ddddddcc', message)\n",
    "            my_message=Message(*touple_from_tcp)\n",
    "            return my_message\n",
    "        return False\n",
    "    def handle_read(self): # update and send to ROS\n",
    "        byte_message=self.recv(self.message_size)\n",
    "        \n",
    "        self.last_message=self.decode_message(byte_message)\n",
    "        #print(self.last_message)\n",
    "        if(self.last_message):\n",
    "            try:\n",
    "                #print(self.last_message.position1)\n",
    "                self.pub0.publish(self.last_message.position1)\n",
    "                self.pub1.publish(self.last_message.speed1)\n",
    "                self.pub2.publish(self.last_message.torque1)\n",
    "                self.pub3.publish(self.last_message.position2)\n",
    "                self.pub4.publish(self.last_message.speed2)\n",
    "                self.pub5.publish(self.last_message.torque2)\n",
    "            except:\n",
    "                print(\":-(\")\n",
    "        self.counter+=1\n",
    "        \n",
    "    def writable(self):\n",
    "        return (len(self.buffer) > 0)\n",
    "\n",
    "    #def handle_write(self):\n",
    "        #sent = self.send(self.buffer)\n",
    "        #self.buffer = self.buffer[sent:]\n",
    "\n",
    "\n"
   ]
  },
  {
   "cell_type": "code",
   "execution_count": 19,
   "metadata": {
    "collapsed": false
   },
   "outputs": [
    {
     "name": "stdout",
     "output_type": "stream",
     "text": [
      "error: uncaptured python exception, closing channel <__main__.HTTPClient 192.168.1.120:8000 at 0x7f1b240295c0> (<class 'OSError'>:[Errno 113] No route to host [/home/alvaro/anaconda3/lib/python3.6/asyncore.py|read|83] [/home/alvaro/anaconda3/lib/python3.6/asyncore.py|handle_read_event|420] [/home/alvaro/anaconda3/lib/python3.6/asyncore.py|handle_connect_event|428])\n"
     ]
    }
   ],
   "source": [
    "client = HTTPClient('192.168.1.120',8000)\n",
    "asyncore.loop()"
   ]
  },
  {
   "cell_type": "code",
   "execution_count": null,
   "metadata": {
    "collapsed": true
   },
   "outputs": [],
   "source": [
    "client.socket.close()"
   ]
  },
  {
   "cell_type": "code",
   "execution_count": null,
   "metadata": {
    "collapsed": false
   },
   "outputs": [],
   "source": [
    "client.counter"
   ]
  },
  {
   "cell_type": "code",
   "execution_count": null,
   "metadata": {
    "collapsed": true
   },
   "outputs": [],
   "source": []
  }
 ],
 "metadata": {
  "celltoolbar": "Raw Cell Format",
  "kernelspec": {
   "display_name": "Python 3",
   "language": "python",
   "name": "python3"
  },
  "language_info": {
   "codemirror_mode": {
    "name": "ipython",
    "version": 3
   },
   "file_extension": ".py",
   "mimetype": "text/x-python",
   "name": "python",
   "nbconvert_exporter": "python",
   "pygments_lexer": "ipython3",
   "version": "3.6.0"
  }
 },
 "nbformat": 4,
 "nbformat_minor": 2
}
