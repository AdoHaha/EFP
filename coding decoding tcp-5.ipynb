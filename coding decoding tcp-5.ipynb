{
 "cells": [
  {
   "cell_type": "code",
   "execution_count": 1,
   "metadata": {
    "collapsed": false
   },
   "outputs": [],
   "source": [
    "import socket\n",
    "import sys\n",
    "from collections import namedtuple\n",
    "from struct import unpack\n",
    "import asyncore\n",
    "import rospy\n",
    "from std_msgs.msg import Float32\n",
    "from std_msgs.msg import String\n",
    "from std_srvs.srv import Trigger, SetBool\n",
    "import std_srvs.srv"
   ]
  },
  {
   "cell_type": "code",
   "execution_count": 2,
   "metadata": {
    "collapsed": false
   },
   "outputs": [],
   "source": [
    "Message = namedtuple('Message', ['position1','speed1','torque1','position2','speed2','torque2','first_letter','second_letter'])\n",
    "\n",
    "rospy.init_node('start_stop_server')\n",
    "class HTTPClient(asyncore.dispatcher):\n",
    "\n",
    "    def __init__(self, host=\"192.168.1.120\", port=8000, message_size=50):\n",
    "  \n",
    "        asyncore.dispatcher.__init__(self)\n",
    "        self.create_socket()\n",
    "        self.message_size=message_size #message_size=50\n",
    "        self.connect( (host, port) ) #connect to port 8000, host 192.168.1.120 \n",
    "        #self.buffer = bytes('testing','utf8')\n",
    "        self.counter=0\n",
    "        self.s_start = rospy.Service('start_stop', SetBool, self.start_stop_communication)      \n",
    "        #self.s_mode = rospy.Service('mode', SetBool, self.change_mode)\n",
    "        self.last_message=\"\"\n",
    "    \n",
    "    def start_stop_communication(self,message):\n",
    "        'this methond stops communication between ROS and the PLC'\n",
    "        print(\"service response\")\n",
    "        print(message)\n",
    "        #self.shutdown(self.SHUT_RDWR)\n",
    "        self.close()\n",
    "        return std_srvs.srv.SetBoolResponse(1, \"Communication shutdown\")\n",
    "\n",
    "    #def change_mode(self):\n",
    "        #return ModeResponse(True, \"Mode changed successfully\")\n",
    "        \n",
    "    def handle_connect(self):\n",
    "        print(\"connected\")\n",
    "        pass\n",
    "        \n",
    "    def decode_message(self,message):\n",
    "        'this method decodes the message received through TCP/IP'\n",
    "        if(len(message)==self.message_size):\n",
    "            touple_from_tcp=unpack('ddddddcc', message)\n",
    "            my_message=Message(*touple_from_tcp)\n",
    "            return my_message\n",
    "        return False\n",
    "    \n",
    "    def handle_read(self):\n",
    "        'this method receives a message through TCP/IP and sends it to ROS'\n",
    "        byte_message=self.recv(self.message_size)\n",
    "        self.last_message=self.decode_message(byte_message)\n",
    "        if(self.last_message):\n",
    "            try:\n",
    "                pass\n",
    "                #print(self.last_message.position1)\n",
    "                #self.pub0.publish(self.last_message.position1)\n",
    "                #self.pub1.publish(self.last_message.speed1)\n",
    "                #self.pub2.publish(self.last_message.torque1)\n",
    "                #self.pub3.publish(self.last_message.position2)\n",
    "                #self.pub4.publish(self.last_message.speed2)\n",
    "                #self.pub5.publish(self.last_message.torque2)\n",
    "            except:\n",
    "                print(\":-(\")\n",
    "        self.counter+=1\n",
    "        \n",
    "    #def writable(self):\n",
    "        #return (len(self.buffer) > 0)\n",
    "\n",
    "    #def handle_write(self):\n",
    "        #sent = self.send(self.buffer)\n",
    "        #self.buffer = self.buffer[sent:]\n"
   ]
  },
  {
   "cell_type": "code",
   "execution_count": 3,
   "metadata": {
    "collapsed": false,
    "scrolled": true
   },
   "outputs": [
    {
     "name": "stdout",
     "output_type": "stream",
     "text": [
      "connected\n",
      "service response\n",
      "data: False\n",
      "service response\n",
      "data: True\n"
     ]
    }
   ],
   "source": [
    "client = HTTPClient('192.168.1.120',8000)\n",
    "asyncore.loop()"
   ]
  },
  {
   "cell_type": "code",
   "execution_count": 4,
   "metadata": {
    "collapsed": true
   },
   "outputs": [],
   "source": [
    "asyncore.loop()"
   ]
  },
  {
   "cell_type": "code",
   "execution_count": 2,
   "metadata": {
    "collapsed": true
   },
   "outputs": [],
   "source": [
    "#received_message=sock.recv(50)\n",
    "#print(received_message)"
   ]
  },
  {
   "cell_type": "code",
   "execution_count": 3,
   "metadata": {
    "collapsed": false
   },
   "outputs": [
    {
     "name": "stdout",
     "output_type": "stream",
     "text": [
      "connecting to 192.168.1.120 port 8000\n"
     ]
    }
   ],
   "source": [
    "    with socket.socket(socket.AF_INET, socket.SOCK_STREAM) as sock:\n",
    "        ip=\"192.168.1.120\"\n",
    "        port=8000\n",
    "    # Connect the socket to the port where the server is listening\n",
    "        server_address = (ip,port)\n",
    "        print( 'connecting to %s port %s' % server_address)\n",
    "        somesocket=sock.connect(server_address)\n",
    "        #sock.sendall(\"testing\".encode())\n",
    "        received_message=sock.recv(50)\n",
    "\n"
   ]
  },
  {
   "cell_type": "code",
   "execution_count": 4,
   "metadata": {
    "collapsed": false
   },
   "outputs": [
    {
     "name": "stdout",
     "output_type": "stream",
     "text": [
      "50\n"
     ]
    }
   ],
   "source": [
    "print(len(received_message))"
   ]
  },
  {
   "cell_type": "code",
   "execution_count": 5,
   "metadata": {
    "collapsed": false
   },
   "outputs": [
    {
     "data": {
      "text/plain": [
       "(140.29997355707184, 0.0, -31.1, 150.69999303499608, 0.0, -4.5, b'O', b'K')"
      ]
     },
     "execution_count": 5,
     "metadata": {},
     "output_type": "execute_result"
    }
   ],
   "source": [
    "touple_from_tcp=unpack('ddddddcc', received_message)\n",
    "touple_from_tcp"
   ]
  },
  {
   "cell_type": "code",
   "execution_count": 6,
   "metadata": {
    "collapsed": false
   },
   "outputs": [
    {
     "data": {
      "text/plain": [
       "[140.29997355707184, 0.0, -31.1, 150.69999303499608, 0.0, -4.5, b'O', b'K']"
      ]
     },
     "execution_count": 6,
     "metadata": {},
     "output_type": "execute_result"
    }
   ],
   "source": [
    "Message = namedtuple('Message', ['position1','speed1','torque1','position2','speed2','torque2','first_letter','second_letter'])\n",
    "my_message=Message(*touple_from_tcp)\n",
    "list(my_message)"
   ]
  },
  {
   "cell_type": "code",
   "execution_count": 7,
   "metadata": {
    "collapsed": false
   },
   "outputs": [
    {
     "data": {
      "text/plain": [
       "140.29997355707184"
      ]
     },
     "execution_count": 7,
     "metadata": {},
     "output_type": "execute_result"
    }
   ],
   "source": [
    "my_message.position1"
   ]
  },
  {
   "cell_type": "code",
   "execution_count": null,
   "metadata": {
    "collapsed": true
   },
   "outputs": [],
   "source": [
    "client.socket.close()"
   ]
  },
  {
   "cell_type": "code",
   "execution_count": null,
   "metadata": {
    "collapsed": false
   },
   "outputs": [],
   "source": [
    "client.counter"
   ]
  },
  {
   "cell_type": "code",
   "execution_count": 13,
   "metadata": {
    "collapsed": false
   },
   "outputs": [],
   "source": [
    "#!/usr/bin/env python\n",
    "\n",
    "import rospy\n",
    "\n",
    "def start_stop_communication(inside):\n",
    "    #start stop rail \n",
    "    print(\"inside service response\")\n",
    "    print(inside)\n",
    "    return std_srvs.srv.SetBoolResponse(1,\"we have suceeded\")\n",
    "    \n",
    "\n"
   ]
  },
  {
   "cell_type": "code",
   "execution_count": 7,
   "metadata": {
    "collapsed": true
   },
   "outputs": [],
   "source": [
    "? std_srvs.srv.SetBoolResponse"
   ]
  },
  {
   "cell_type": "code",
   "execution_count": 14,
   "metadata": {
    "collapsed": true
   },
   "outputs": [],
   "source": [
    "s_start.shutdown()"
   ]
  },
  {
   "cell_type": "code",
   "execution_count": 15,
   "metadata": {
    "collapsed": true
   },
   "outputs": [],
   "source": [
    "s_start = rospy.Service('start_stop4', SetBool, start_stop_communication)\n"
   ]
  },
  {
   "cell_type": "code",
   "execution_count": 16,
   "metadata": {
    "collapsed": true
   },
   "outputs": [],
   "source": [
    "trigger_experiment = rospy.ServiceProxy('start_stop4', SetBool)"
   ]
  },
  {
   "cell_type": "code",
   "execution_count": 21,
   "metadata": {
    "collapsed": false
   },
   "outputs": [
    {
     "name": "stdout",
     "output_type": "stream",
     "text": [
      "inside service response\n",
      "data: True\n"
     ]
    }
   ],
   "source": [
    "response=trigger_experiment(True)"
   ]
  },
  {
   "cell_type": "code",
   "execution_count": 22,
   "metadata": {
    "collapsed": false
   },
   "outputs": [
    {
     "name": "stdout",
     "output_type": "stream",
     "text": [
      "we have suceeded\n",
      "True\n"
     ]
    }
   ],
   "source": [
    "print(response.message)\n",
    "print(response.success)\n"
   ]
  },
  {
   "cell_type": "code",
   "execution_count": 20,
   "metadata": {
    "collapsed": true
   },
   "outputs": [],
   "source": [
    "sth=Trigger()"
   ]
  },
  {
   "cell_type": "code",
   "execution_count": 19,
   "metadata": {
    "collapsed": false
   },
   "outputs": [
    {
     "name": "stdout",
     "output_type": "stream",
     "text": [
      "<std_srvs.srv._Trigger.Trigger object at 0x7f321bbc7a20>\n"
     ]
    }
   ],
   "source": [
    "print(sth.)"
   ]
  },
  {
   "cell_type": "code",
   "execution_count": 21,
   "metadata": {
    "collapsed": true
   },
   "outputs": [],
   "source": [
    "? sth"
   ]
  },
  {
   "cell_type": "code",
   "execution_count": null,
   "metadata": {
    "collapsed": true
   },
   "outputs": [],
   "source": []
  }
 ],
 "metadata": {
  "celltoolbar": "Raw Cell Format",
  "kernelspec": {
   "display_name": "Python 3",
   "language": "python",
   "name": "python3"
  },
  "language_info": {
   "codemirror_mode": {
    "name": "ipython",
    "version": 3
   },
   "file_extension": ".py",
   "mimetype": "text/x-python",
   "name": "python",
   "nbconvert_exporter": "python",
   "pygments_lexer": "ipython3",
   "version": "3.6.0"
  }
 },
 "nbformat": 4,
 "nbformat_minor": 2
}
