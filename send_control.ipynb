{
 "cells": [
  {
   "cell_type": "code",
   "execution_count": 1,
   "metadata": {
    "collapsed": true
   },
   "outputs": [],
   "source": [
    "import rospy\n",
    "from std_msgs.msg import Float32, Float64, String, Header\n",
    "from sensor_msgs.msg import JointState"
   ]
  },
  {
   "cell_type": "code",
   "execution_count": 2,
   "metadata": {
    "collapsed": false
   },
   "outputs": [],
   "source": [
    "rospy.init_node(\"Control\")"
   ]
  },
  {
   "cell_type": "code",
   "execution_count": 3,
   "metadata": {
    "collapsed": false
   },
   "outputs": [],
   "source": [
    "pub1_control=rospy.Publisher(\"/rail1_control\", JointState, queue_size=10)\n",
    "pub2_control=rospy.Publisher(\"/rail2_control\", JointState, queue_size=10)\n",
    "\n",
    "sub1_state = rospy.Subscriber(\"rail1_state\", JointState)\n",
    "sub2_state = rospy.Subscriber(\"rail2_state\", JointState)"
   ]
  },
  {
   "cell_type": "code",
   "execution_count": 4,
   "metadata": {
    "collapsed": false
   },
   "outputs": [],
   "source": [
    "pos_1 = 800\n",
    "vel_1 = 100\n",
    "accel_1 = 100\n",
    "\n",
    "control1 = JointState()\n",
    "control1.header = Header()\n",
    "control1.header.stamp = rospy.Time.now()\n",
    "control1.name = [\"c_1\"]\n",
    "control1.position = [pos_1]\n",
    "control1.velocity = [vel_1]\n",
    "control1.effort = [accel_1]\n",
    "\n",
    "pub1_control.publish(control1)"
   ]
  },
  {
   "cell_type": "code",
   "execution_count": 5,
   "metadata": {
    "collapsed": false
   },
   "outputs": [],
   "source": [
    "pos_2 = 800\n",
    "vel_2 = 100\n",
    "accel_2 = 100\n",
    "\n",
    "control2 = JointState()\n",
    "control2.header = Header()\n",
    "control2.header.stamp = rospy.Time.now()\n",
    "control2.name = [\"c_2\"]\n",
    "control2.position = [pos_2]\n",
    "control2.velocity = [vel_2]\n",
    "control2.effort = [accel_2]\n",
    "\n",
    "pub2_control.publish(control2)"
   ]
  },
  {
   "cell_type": "code",
   "execution_count": null,
   "metadata": {
    "collapsed": true
   },
   "outputs": [],
   "source": [
    "pos_1 = 300\n",
    "vel_1 = 200\n",
    "accel_1 = 75\n",
    "\n",
    "pos_2 = 300\n",
    "vel_2 = 150\n",
    "accel_2 = 50\n",
    "\n",
    "control1 = JointState()\n",
    "control1.header = Header()\n",
    "control1.header.stamp = rospy.Time.now()\n",
    "control1.name = [\"c_1\"]\n",
    "control1.position = [pos_1]\n",
    "control1.velocity = [vel_1]\n",
    "control1.effort = [accel_1]\n",
    "\n",
    "control2 = JointState()\n",
    "control2.header = Header()\n",
    "control2.header.stamp = rospy.Time.now()\n",
    "control2.name = [\"c_2\"]\n",
    "control2.position = [pos_2]\n",
    "control2.velocity = [vel_2]\n",
    "control2.effort = [accel_2]\n",
    "\n",
    "pub1_control.publish(control1)\n",
    "pub2_control.publish(control2)\n",
    "\n"
   ]
  }
 ],
 "metadata": {
  "kernelspec": {
   "display_name": "Python 3",
   "language": "python",
   "name": "python3"
  },
  "language_info": {
   "codemirror_mode": {
    "name": "ipython",
    "version": 3
   },
   "file_extension": ".py",
   "mimetype": "text/x-python",
   "name": "python",
   "nbconvert_exporter": "python",
   "pygments_lexer": "ipython3",
   "version": "3.6.0"
  }
 },
 "nbformat": 4,
 "nbformat_minor": 2
}
