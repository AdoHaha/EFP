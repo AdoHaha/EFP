{
 "cells": [
  {
   "cell_type": "code",
   "execution_count": null,
   "metadata": {
    "collapsed": true
   },
   "outputs": [],
   "source": [
    "import rospy\n",
    "from std_msgs.msg import Float32, Float64, String, Header\n",
    "from sensor_msgs.msg import JointState\n",
    "\n",
    "\n",
    "from __future__ import print_function\n",
    "from ipywidgets import interact, interactive, fixed, interact_manual\n",
    "import ipywidgets as widgets"
   ]
  },
  {
   "cell_type": "markdown",
   "metadata": {},
   "source": [
    "### Main control"
   ]
  },
  {
   "cell_type": "code",
   "execution_count": null,
   "metadata": {
    "collapsed": true
   },
   "outputs": [],
   "source": [
    "rospy.init_node(\"Control\")"
   ]
  },
  {
   "cell_type": "code",
   "execution_count": null,
   "metadata": {
    "collapsed": true
   },
   "outputs": [],
   "source": [
    "pub1_control=rospy.Publisher(\"/rail1_control\", JointState, queue_size=10)\n",
    "pub2_control=rospy.Publisher(\"/rail2_control\", JointState, queue_size=10)\n",
    "\n",
    "sub1_state = rospy.Subscriber(\"rail1_state\", JointState)\n",
    "sub2_state = rospy.Subscriber(\"rail2_state\", JointState)"
   ]
  },
  {
   "cell_type": "code",
   "execution_count": null,
   "metadata": {},
   "outputs": [],
   "source": [
    "\n",
    "@interact_manual(position=widgets.FloatSlider(description=\"Tor 1 position\",\n",
    "                                min=100,\n",
    "                                max=1900,\n",
    "                                step=1,\n",
    "                                value=1000,\n",
    "                                continuous_update=False),\n",
    "         velocity=widgets.FloatSlider(description=\"Velocity\",\n",
    "                                min=1,\n",
    "                                max=300,\n",
    "                                step=1,\n",
    "                                value=100,\n",
    "                                continuous_update=False),\n",
    "         acceleration=widgets.FloatSlider(description=\"Acceleration\",\n",
    "                                min=1,\n",
    "                                max=300,\n",
    "                                step=1,\n",
    "                                value=100,\n",
    "                                continuous_update=False), \n",
    "         ) #you could also go 0-2000\n",
    "\n",
    "def send_position_1(position,velocity,acceleration):\n",
    "    control1 = JointState()\n",
    "    control1.header = Header()\n",
    "    control1.header.stamp = rospy.Time.now()\n",
    "    control1.name = [\"c_1\"]\n",
    "    control1.position = [position]\n",
    "    control1.velocity = [velocity]\n",
    "    control1.effort = [acceleration]\n",
    "\n",
    "    pub1_control.publish(control1)\n",
    "    \n",
    "@interact_manual(position=widgets.FloatSlider(description=\"Tor 2 position\",\n",
    "                                min=100,\n",
    "                                max=1900,\n",
    "                                step=1,\n",
    "                                value=1000,\n",
    "                                continuous_update=False),\n",
    "         velocity=widgets.FloatSlider(description=\"Velocity\",\n",
    "                                min=1,\n",
    "                                max=300,\n",
    "                                step=1,\n",
    "                                value=100,\n",
    "                                continuous_update=False), \n",
    "         acceleration=widgets.FloatSlider(description=\"Acceleration\",\n",
    "                                min=1,\n",
    "                                max=300,\n",
    "                                step=1,\n",
    "                                value=100,\n",
    "                                continuous_update=False), \n",
    "         ) #you could also go 0-2000\n",
    "\n",
    "def send_position_2(position,velocity,acceleration):\n",
    "    control2 = JointState()\n",
    "    control2.header = Header()\n",
    "    control2.header.stamp = rospy.Time.now()\n",
    "    control2.name = [\"c_2\"]\n",
    "    control2.position = [position]\n",
    "    control2.velocity = [velocity]\n",
    "    control2.effort = [acceleration]\n",
    "\n",
    "    pub2_control.publish(control2)\n"
   ]
  },
  {
   "cell_type": "code",
   "execution_count": null,
   "metadata": {
    "collapsed": true
   },
   "outputs": [],
   "source": [
    "from ipywidgets import Button\n",
    "from IPython.display import display\n",
    "\n",
    "stop_button=Button(description='Stop', button_style='danger')\n",
    "\n",
    "def please_stop(what):\n",
    "    print(\"no\")\n",
    "    \n",
    "stop_button.on_click(please_stop)\n",
    "\n",
    "display(stop_button)"
   ]
  },
  {
   "cell_type": "code",
   "execution_count": null,
   "metadata": {
    "collapsed": true
   },
   "outputs": [],
   "source": [
    "stop_button=Button(description='Stop', button_style='danger')\n"
   ]
  },
  {
   "cell_type": "code",
   "execution_count": null,
   "metadata": {
    "collapsed": true
   },
   "outputs": [],
   "source": [
    "send_position(1500)"
   ]
  },
  {
   "cell_type": "code",
   "execution_count": null,
   "metadata": {
    "collapsed": true
   },
   "outputs": [],
   "source": [
    "pos_2 = 1200\n",
    "vel_2 = 100\n",
    "accel_2 = 100\n",
    "\n",
    "control2 = JointState()\n",
    "control2.header = Header()\n",
    "control2.header.stamp = rospy.Time.now()\n",
    "control2.name = [\"c_2\"]\n",
    "control2.position = [pos_2]\n",
    "control2.velocity = [vel_2]\n",
    "control2.effort = [accel_2]\n",
    "\n",
    "pub2_control.publish(control2)"
   ]
  },
  {
   "cell_type": "code",
   "execution_count": null,
   "metadata": {
    "collapsed": true
   },
   "outputs": [],
   "source": [
    "pos_1 = 1000\n",
    "vel_1 = 100\n",
    "accel_1 = 75\n",
    "\n",
    "pos_2 = 1000\n",
    "vel_2 = 150\n",
    "accel_2 = 50\n",
    "\n",
    "control1 = JointState()\n",
    "control1.header = Header()\n",
    "control1.header.stamp = rospy.Time.now()\n",
    "control1.name = [\"c_1\"]\n",
    "control1.position = [pos_1]\n",
    "control1.velocity = [vel_1]\n",
    "control1.effort = [accel_1]\n",
    "\n",
    "control2 = JointState()\n",
    "control2.header = Header()\n",
    "control2.header.stamp = rospy.Time.now()\n",
    "control2.name = [\"c_2\"]\n",
    "control2.position = [pos_2]\n",
    "control2.velocity = [vel_2]\n",
    "control2.effort = [accel_2]\n",
    "\n",
    "pub1_control.publish(control1)\n",
    "pub2_control.publish(control2)\n",
    "\n"
   ]
  },
  {
   "cell_type": "code",
   "execution_count": null,
   "metadata": {
    "collapsed": true
   },
   "outputs": [],
   "source": [
    "from __future__ import print_function\n",
    "from ipywidgets import interact, interactive, fixed, interact_manual\n",
    "import ipywidgets as widgets"
   ]
  },
  {
   "cell_type": "code",
   "execution_count": null,
   "metadata": {
    "collapsed": true
   },
   "outputs": [],
   "source": [
    "@interact(x=True, y=1.0)\n",
    "def g(x, y):\n",
    "    return (x, y)"
   ]
  },
  {
   "cell_type": "code",
   "execution_count": null,
   "metadata": {
    "collapsed": true
   },
   "outputs": [],
   "source": []
  }
 ],
 "metadata": {
  "kernelspec": {
   "display_name": "Python 3",
   "language": "python",
   "name": "python3"
  },
  "language_info": {
   "codemirror_mode": {
    "name": "ipython",
    "version": 3
   },
   "file_extension": ".py",
   "mimetype": "text/x-python",
   "name": "python",
   "nbconvert_exporter": "python",
   "pygments_lexer": "ipython3",
   "version": "3.6.0"
  },
  "widgets": {
   "state": {
    "158cf4eec50743aa8d0ffe5fd06d445a": {
     "views": [
      {
       "cell_index": 5
      }
     ]
    },
    "1a3a517e20ea4bed8f71e9ed51dd09ed": {
     "views": [
      {
       "cell_index": 4
      }
     ]
    },
    "1b23526f2e3542edbca37de1d0941847": {
     "views": [
      {
       "cell_index": 7
      }
     ]
    },
    "2023cb45e5464dfba7b8244d35a2acc9": {
     "views": [
      {
       "cell_index": 4
      }
     ]
    },
    "2fded169ca594362acf34ee762df995d": {
     "views": [
      {
       "cell_index": 4
      }
     ]
    },
    "371ff75d06314160a0653ef76a3c24fd": {
     "views": [
      {
       "cell_index": 4
      }
     ]
    },
    "37ab6f4026cb46a7995623119fc6556c": {
     "views": [
      {
       "cell_index": 4
      }
     ]
    },
    "3bb48c7b93a44b3285c2e5f0b8883301": {
     "views": [
      {
       "cell_index": 4
      }
     ]
    },
    "5729aeed37c54f6192cbb8593097f247": {
     "views": [
      {
       "cell_index": 4
      }
     ]
    },
    "73612f388b35433bb0ad90a6d85d2448": {
     "views": [
      {
       "cell_index": 4
      }
     ]
    },
    "843bd7091c674d3cac038445fb85d1e5": {
     "views": [
      {
       "cell_index": 4
      }
     ]
    },
    "90cbd74e6edd4c56b43a4225ce91b339": {
     "views": [
      {
       "cell_index": 4
      }
     ]
    },
    "a34c65c6defd488c82bc45952219044a": {
     "views": [
      {
       "cell_index": 4
      }
     ]
    },
    "b4d4f0a0ddd445fc847a59bc48d2e850": {
     "views": [
      {
       "cell_index": 4
      }
     ]
    },
    "b698457f0cfc41deb495e38847aba19d": {
     "views": [
      {
       "cell_index": 4
      }
     ]
    },
    "d20ea23e5e6143069181b5a30f52dff5": {
     "views": [
      {
       "cell_index": 4
      }
     ]
    },
    "e137dea1ae54457dae5c717e586cc7bd": {
     "views": [
      {
       "cell_index": 4
      }
     ]
    },
    "f2d4d32a00984b3aad77be0d36b7172a": {
     "views": [
      {
       "cell_index": 4
      }
     ]
    }
   },
   "version": "1.2.0"
  }
 },
 "nbformat": 4,
 "nbformat_minor": 2
}
